{
 "cells": [
  {
   "cell_type": "markdown",
   "id": "448a37dc-9507-4e43-b26b-b28e083e8ab5",
   "metadata": {},
   "source": [
    "# Car Dataset Analizi"
   ]
  },
  {
   "cell_type": "markdown",
   "id": "476c53e7-a285-453f-8fd3-a84f6e64ff3d",
   "metadata": {},
   "source": [
    "## **Bu veri setinde araba veri setini inceleyeceğiz.**\n"
   ]
  },
  {
   "cell_type": "markdown",
   "id": "9a2f69c7-43a1-4ce9-b924-e86ef4d812c2",
   "metadata": {},
   "source": [
    "### Bu analizimizde \"**PANDAS**\" ve \"**NUMPY**\" kütüphanelerini kullanacağız.Haydi onları ekleyelim."
   ]
  },
  {
   "cell_type": "code",
   "execution_count": 9,
   "id": "07dab08e-24bf-490f-8aba-5c9dbd2368ef",
   "metadata": {},
   "outputs": [],
   "source": [
    "import pandas as pd\n",
    "import numpy as np"
   ]
  },
  {
   "cell_type": "markdown",
   "id": "e07a2b66-c57e-41d6-b4e7-4e771cc56c2c",
   "metadata": {},
   "source": [
    "### Veri setini okuyalım ve \"**df**\" adlı değişkene kopyalayalım."
   ]
  },
  {
   "cell_type": "code",
   "execution_count": 31,
   "id": "63710a50-f7f9-481e-9048-24ed3555c7b7",
   "metadata": {},
   "outputs": [],
   "source": [
    "Dataset=pd.read_csv(r\"C:\\Users\\E4EATLAS\\Downloads\\cars_data.csv\")\n",
    "df=Dataset.copy()"
   ]
  },
  {
   "cell_type": "markdown",
   "id": "d30ec81d-73ff-4e8a-a61b-8cfa41fcf55a",
   "metadata": {},
   "source": [
    "### Veri setinin ilk ve son \"**5**\" satırına hızlı bir bakış atalım."
   ]
  },
  {
   "cell_type": "code",
   "execution_count": 58,
   "id": "d2aa7673-6b19-4915-848e-35580bea8f9b",
   "metadata": {},
   "outputs": [
    {
     "data": {
      "text/html": [
       "<div>\n",
       "<style scoped>\n",
       "    .dataframe tbody tr th:only-of-type {\n",
       "        vertical-align: middle;\n",
       "    }\n",
       "\n",
       "    .dataframe tbody tr th {\n",
       "        vertical-align: top;\n",
       "    }\n",
       "\n",
       "    .dataframe thead th {\n",
       "        text-align: right;\n",
       "    }\n",
       "</style>\n",
       "<table border=\"1\" class=\"dataframe\">\n",
       "  <thead>\n",
       "    <tr style=\"text-align: right;\">\n",
       "      <th></th>\n",
       "      <th>Make</th>\n",
       "      <th>Model</th>\n",
       "      <th>Type</th>\n",
       "      <th>Origin</th>\n",
       "      <th>DriveTrain</th>\n",
       "      <th>MSRP</th>\n",
       "      <th>Invoice</th>\n",
       "      <th>EngineSize</th>\n",
       "      <th>Cylinders</th>\n",
       "      <th>Horsepower</th>\n",
       "      <th>MPG_City</th>\n",
       "      <th>MPG_Highway</th>\n",
       "      <th>Weight</th>\n",
       "      <th>Wheelbase</th>\n",
       "      <th>Length</th>\n",
       "    </tr>\n",
       "  </thead>\n",
       "  <tbody>\n",
       "    <tr>\n",
       "      <th>0</th>\n",
       "      <td>Acura</td>\n",
       "      <td>MDX</td>\n",
       "      <td>SUV</td>\n",
       "      <td>Asia</td>\n",
       "      <td>All</td>\n",
       "      <td>$36,945</td>\n",
       "      <td>$33,337</td>\n",
       "      <td>3.5</td>\n",
       "      <td>6.0</td>\n",
       "      <td>265.0</td>\n",
       "      <td>17.0</td>\n",
       "      <td>23.0</td>\n",
       "      <td>4451.0</td>\n",
       "      <td>106.0</td>\n",
       "      <td>189.0</td>\n",
       "    </tr>\n",
       "    <tr>\n",
       "      <th>1</th>\n",
       "      <td>Acura</td>\n",
       "      <td>RSX Type S 2dr</td>\n",
       "      <td>Sedan</td>\n",
       "      <td>Asia</td>\n",
       "      <td>Front</td>\n",
       "      <td>$23,820</td>\n",
       "      <td>$21,761</td>\n",
       "      <td>2.0</td>\n",
       "      <td>4.0</td>\n",
       "      <td>200.0</td>\n",
       "      <td>24.0</td>\n",
       "      <td>31.0</td>\n",
       "      <td>2778.0</td>\n",
       "      <td>101.0</td>\n",
       "      <td>172.0</td>\n",
       "    </tr>\n",
       "    <tr>\n",
       "      <th>2</th>\n",
       "      <td>Acura</td>\n",
       "      <td>TSX 4dr</td>\n",
       "      <td>Sedan</td>\n",
       "      <td>Asia</td>\n",
       "      <td>Front</td>\n",
       "      <td>$26,990</td>\n",
       "      <td>$24,647</td>\n",
       "      <td>2.4</td>\n",
       "      <td>4.0</td>\n",
       "      <td>200.0</td>\n",
       "      <td>22.0</td>\n",
       "      <td>29.0</td>\n",
       "      <td>3230.0</td>\n",
       "      <td>105.0</td>\n",
       "      <td>183.0</td>\n",
       "    </tr>\n",
       "    <tr>\n",
       "      <th>3</th>\n",
       "      <td>Acura</td>\n",
       "      <td>TL 4dr</td>\n",
       "      <td>Sedan</td>\n",
       "      <td>Asia</td>\n",
       "      <td>Front</td>\n",
       "      <td>$33,195</td>\n",
       "      <td>$30,299</td>\n",
       "      <td>3.2</td>\n",
       "      <td>6.0</td>\n",
       "      <td>270.0</td>\n",
       "      <td>20.0</td>\n",
       "      <td>28.0</td>\n",
       "      <td>3575.0</td>\n",
       "      <td>108.0</td>\n",
       "      <td>186.0</td>\n",
       "    </tr>\n",
       "    <tr>\n",
       "      <th>4</th>\n",
       "      <td>Acura</td>\n",
       "      <td>3.5 RL 4dr</td>\n",
       "      <td>Sedan</td>\n",
       "      <td>Asia</td>\n",
       "      <td>Front</td>\n",
       "      <td>$43,755</td>\n",
       "      <td>$39,014</td>\n",
       "      <td>3.5</td>\n",
       "      <td>6.0</td>\n",
       "      <td>225.0</td>\n",
       "      <td>18.0</td>\n",
       "      <td>24.0</td>\n",
       "      <td>3880.0</td>\n",
       "      <td>115.0</td>\n",
       "      <td>197.0</td>\n",
       "    </tr>\n",
       "  </tbody>\n",
       "</table>\n",
       "</div>"
      ],
      "text/plain": [
       "    Make           Model   Type Origin DriveTrain      MSRP   Invoice  \\\n",
       "0  Acura             MDX    SUV   Asia        All  $36,945   $33,337    \n",
       "1  Acura  RSX Type S 2dr  Sedan   Asia      Front  $23,820   $21,761    \n",
       "2  Acura         TSX 4dr  Sedan   Asia      Front  $26,990   $24,647    \n",
       "3  Acura          TL 4dr  Sedan   Asia      Front  $33,195   $30,299    \n",
       "4  Acura      3.5 RL 4dr  Sedan   Asia      Front  $43,755   $39,014    \n",
       "\n",
       "   EngineSize  Cylinders  Horsepower  MPG_City  MPG_Highway  Weight  \\\n",
       "0         3.5        6.0       265.0      17.0         23.0  4451.0   \n",
       "1         2.0        4.0       200.0      24.0         31.0  2778.0   \n",
       "2         2.4        4.0       200.0      22.0         29.0  3230.0   \n",
       "3         3.2        6.0       270.0      20.0         28.0  3575.0   \n",
       "4         3.5        6.0       225.0      18.0         24.0  3880.0   \n",
       "\n",
       "   Wheelbase  Length  \n",
       "0      106.0   189.0  \n",
       "1      101.0   172.0  \n",
       "2      105.0   183.0  \n",
       "3      108.0   186.0  \n",
       "4      115.0   197.0  "
      ]
     },
     "execution_count": 58,
     "metadata": {},
     "output_type": "execute_result"
    }
   ],
   "source": [
    "df.head()"
   ]
  },
  {
   "cell_type": "code",
   "execution_count": 60,
   "id": "4ddbb786-9213-4594-aa04-2aee89aa0d75",
   "metadata": {},
   "outputs": [
    {
     "data": {
      "text/html": [
       "<div>\n",
       "<style scoped>\n",
       "    .dataframe tbody tr th:only-of-type {\n",
       "        vertical-align: middle;\n",
       "    }\n",
       "\n",
       "    .dataframe tbody tr th {\n",
       "        vertical-align: top;\n",
       "    }\n",
       "\n",
       "    .dataframe thead th {\n",
       "        text-align: right;\n",
       "    }\n",
       "</style>\n",
       "<table border=\"1\" class=\"dataframe\">\n",
       "  <thead>\n",
       "    <tr style=\"text-align: right;\">\n",
       "      <th></th>\n",
       "      <th>Make</th>\n",
       "      <th>Model</th>\n",
       "      <th>Type</th>\n",
       "      <th>Origin</th>\n",
       "      <th>DriveTrain</th>\n",
       "      <th>MSRP</th>\n",
       "      <th>Invoice</th>\n",
       "      <th>EngineSize</th>\n",
       "      <th>Cylinders</th>\n",
       "      <th>Horsepower</th>\n",
       "      <th>MPG_City</th>\n",
       "      <th>MPG_Highway</th>\n",
       "      <th>Weight</th>\n",
       "      <th>Wheelbase</th>\n",
       "      <th>Length</th>\n",
       "    </tr>\n",
       "  </thead>\n",
       "  <tbody>\n",
       "    <tr>\n",
       "      <th>427</th>\n",
       "      <td>Volvo</td>\n",
       "      <td>C70 LPT convertible 2dr</td>\n",
       "      <td>Sedan</td>\n",
       "      <td>Europe</td>\n",
       "      <td>Front</td>\n",
       "      <td>$40,565</td>\n",
       "      <td>$38,203</td>\n",
       "      <td>2.4</td>\n",
       "      <td>5.0</td>\n",
       "      <td>197.0</td>\n",
       "      <td>21.0</td>\n",
       "      <td>28.0</td>\n",
       "      <td>3450.0</td>\n",
       "      <td>105.0</td>\n",
       "      <td>186.0</td>\n",
       "    </tr>\n",
       "    <tr>\n",
       "      <th>428</th>\n",
       "      <td>Volvo</td>\n",
       "      <td>C70 HPT convertible 2dr</td>\n",
       "      <td>Sedan</td>\n",
       "      <td>Europe</td>\n",
       "      <td>Front</td>\n",
       "      <td>$42,565</td>\n",
       "      <td>$40,083</td>\n",
       "      <td>2.3</td>\n",
       "      <td>5.0</td>\n",
       "      <td>242.0</td>\n",
       "      <td>20.0</td>\n",
       "      <td>26.0</td>\n",
       "      <td>3450.0</td>\n",
       "      <td>105.0</td>\n",
       "      <td>186.0</td>\n",
       "    </tr>\n",
       "    <tr>\n",
       "      <th>429</th>\n",
       "      <td>Volvo</td>\n",
       "      <td>S80 T6 4dr</td>\n",
       "      <td>Sedan</td>\n",
       "      <td>Europe</td>\n",
       "      <td>Front</td>\n",
       "      <td>$45,210</td>\n",
       "      <td>$42,573</td>\n",
       "      <td>2.9</td>\n",
       "      <td>6.0</td>\n",
       "      <td>268.0</td>\n",
       "      <td>19.0</td>\n",
       "      <td>26.0</td>\n",
       "      <td>3653.0</td>\n",
       "      <td>110.0</td>\n",
       "      <td>190.0</td>\n",
       "    </tr>\n",
       "    <tr>\n",
       "      <th>430</th>\n",
       "      <td>Volvo</td>\n",
       "      <td>V40</td>\n",
       "      <td>Wagon</td>\n",
       "      <td>Europe</td>\n",
       "      <td>Front</td>\n",
       "      <td>$26,135</td>\n",
       "      <td>$24,641</td>\n",
       "      <td>1.9</td>\n",
       "      <td>4.0</td>\n",
       "      <td>170.0</td>\n",
       "      <td>22.0</td>\n",
       "      <td>29.0</td>\n",
       "      <td>2822.0</td>\n",
       "      <td>101.0</td>\n",
       "      <td>180.0</td>\n",
       "    </tr>\n",
       "    <tr>\n",
       "      <th>431</th>\n",
       "      <td>Volvo</td>\n",
       "      <td>XC70</td>\n",
       "      <td>Wagon</td>\n",
       "      <td>Europe</td>\n",
       "      <td>All</td>\n",
       "      <td>$35,145</td>\n",
       "      <td>$33,112</td>\n",
       "      <td>2.5</td>\n",
       "      <td>5.0</td>\n",
       "      <td>208.0</td>\n",
       "      <td>20.0</td>\n",
       "      <td>27.0</td>\n",
       "      <td>3823.0</td>\n",
       "      <td>109.0</td>\n",
       "      <td>186.0</td>\n",
       "    </tr>\n",
       "  </tbody>\n",
       "</table>\n",
       "</div>"
      ],
      "text/plain": [
       "      Make                    Model   Type  Origin DriveTrain      MSRP  \\\n",
       "427  Volvo  C70 LPT convertible 2dr  Sedan  Europe      Front  $40,565    \n",
       "428  Volvo  C70 HPT convertible 2dr  Sedan  Europe      Front  $42,565    \n",
       "429  Volvo               S80 T6 4dr  Sedan  Europe      Front  $45,210    \n",
       "430  Volvo                      V40  Wagon  Europe      Front  $26,135    \n",
       "431  Volvo                     XC70  Wagon  Europe        All  $35,145    \n",
       "\n",
       "      Invoice  EngineSize  Cylinders  Horsepower  MPG_City  MPG_Highway  \\\n",
       "427  $38,203          2.4        5.0       197.0      21.0         28.0   \n",
       "428  $40,083          2.3        5.0       242.0      20.0         26.0   \n",
       "429  $42,573          2.9        6.0       268.0      19.0         26.0   \n",
       "430  $24,641          1.9        4.0       170.0      22.0         29.0   \n",
       "431  $33,112          2.5        5.0       208.0      20.0         27.0   \n",
       "\n",
       "     Weight  Wheelbase  Length  \n",
       "427  3450.0      105.0   186.0  \n",
       "428  3450.0      105.0   186.0  \n",
       "429  3653.0      110.0   190.0  \n",
       "430  2822.0      101.0   180.0  \n",
       "431  3823.0      109.0   186.0  "
      ]
     },
     "execution_count": 60,
     "metadata": {},
     "output_type": "execute_result"
    }
   ],
   "source": [
    "df.tail()"
   ]
  },
  {
   "cell_type": "markdown",
   "id": "f9d15174-4326-4eeb-846e-cbfaa06e4a45",
   "metadata": {},
   "source": [
    "### Veri setimizin \"**satır**\" ve \"**sütun**\" sayılarını öğrenelim.\n",
    "### Bunun için .shape fonksiyonunu kullanacağız."
   ]
  },
  {
   "cell_type": "code",
   "execution_count": 82,
   "id": "526e1805-f777-408e-9c53-923b22b4eb5d",
   "metadata": {},
   "outputs": [
    {
     "data": {
      "text/plain": [
       "(432, 15)"
      ]
     },
     "execution_count": 82,
     "metadata": {},
     "output_type": "execute_result"
    }
   ],
   "source": [
    "df.shape # Veri setimiz 432 satır 15 sütun içeriyor."
   ]
  },
  {
   "cell_type": "markdown",
   "id": "cba4f8ef-aa78-4567-aaf5-2d28c0a02d54",
   "metadata": {},
   "source": [
    "### Sütun isimlerimizi \"**.columns**\" fonksiyonu ile getirelim"
   ]
  },
  {
   "cell_type": "code",
   "execution_count": 85,
   "id": "6f11481f-f3bd-4489-8a09-569ee0f59038",
   "metadata": {},
   "outputs": [
    {
     "data": {
      "text/plain": [
       "Index(['Make', 'Model', 'Type', 'Origin', 'DriveTrain', 'MSRP', 'Invoice',\n",
       "       'EngineSize', 'Cylinders', 'Horsepower', 'MPG_City', 'MPG_Highway',\n",
       "       'Weight', 'Wheelbase', 'Length'],\n",
       "      dtype='object')"
      ]
     },
     "execution_count": 85,
     "metadata": {},
     "output_type": "execute_result"
    }
   ],
   "source": [
    "df.columns"
   ]
  },
  {
   "cell_type": "markdown",
   "id": "84f3ad7f-0eb0-4b1f-b603-4c553115a6a2",
   "metadata": {},
   "source": [
    "### Veri setimizde kaç tane hücre olduğunu öğrenelim."
   ]
  },
  {
   "cell_type": "code",
   "execution_count": 93,
   "id": "74d8ec0b-12b0-4731-93ab-aeb7d34b4f3c",
   "metadata": {},
   "outputs": [
    {
     "data": {
      "text/plain": [
       "6480"
      ]
     },
     "execution_count": 93,
     "metadata": {},
     "output_type": "execute_result"
    }
   ],
   "source": [
    "df.size"
   ]
  },
  {
   "cell_type": "markdown",
   "id": "504a3d46-cb16-4a83-98cd-f3a91103bf42",
   "metadata": {},
   "source": [
    "### Veri setimizdeki sayısal veriler içeren sütunlarımızın sayısını,ortalamasını,standart sapmasını vs. öğrenelim.\n",
    "### Transpoze alırsak daha hoş bir görüntü elde ederiz."
   ]
  },
  {
   "cell_type": "code",
   "execution_count": 108,
   "id": "76940710-5ed3-43e0-a171-dfb919dc2a4a",
   "metadata": {},
   "outputs": [
    {
     "data": {
      "text/html": [
       "<div>\n",
       "<style scoped>\n",
       "    .dataframe tbody tr th:only-of-type {\n",
       "        vertical-align: middle;\n",
       "    }\n",
       "\n",
       "    .dataframe tbody tr th {\n",
       "        vertical-align: top;\n",
       "    }\n",
       "\n",
       "    .dataframe thead th {\n",
       "        text-align: right;\n",
       "    }\n",
       "</style>\n",
       "<table border=\"1\" class=\"dataframe\">\n",
       "  <thead>\n",
       "    <tr style=\"text-align: right;\">\n",
       "      <th></th>\n",
       "      <th>count</th>\n",
       "      <th>mean</th>\n",
       "      <th>std</th>\n",
       "      <th>min</th>\n",
       "      <th>25%</th>\n",
       "      <th>50%</th>\n",
       "      <th>75%</th>\n",
       "      <th>max</th>\n",
       "    </tr>\n",
       "  </thead>\n",
       "  <tbody>\n",
       "    <tr>\n",
       "      <th>EngineSize</th>\n",
       "      <td>428.0</td>\n",
       "      <td>3.196729</td>\n",
       "      <td>1.108595</td>\n",
       "      <td>1.3</td>\n",
       "      <td>2.375</td>\n",
       "      <td>3.0</td>\n",
       "      <td>3.90</td>\n",
       "      <td>8.3</td>\n",
       "    </tr>\n",
       "    <tr>\n",
       "      <th>Cylinders</th>\n",
       "      <td>426.0</td>\n",
       "      <td>5.807512</td>\n",
       "      <td>1.558443</td>\n",
       "      <td>3.0</td>\n",
       "      <td>4.000</td>\n",
       "      <td>6.0</td>\n",
       "      <td>6.00</td>\n",
       "      <td>12.0</td>\n",
       "    </tr>\n",
       "    <tr>\n",
       "      <th>Horsepower</th>\n",
       "      <td>428.0</td>\n",
       "      <td>215.885514</td>\n",
       "      <td>71.836032</td>\n",
       "      <td>73.0</td>\n",
       "      <td>165.000</td>\n",
       "      <td>210.0</td>\n",
       "      <td>255.00</td>\n",
       "      <td>500.0</td>\n",
       "    </tr>\n",
       "    <tr>\n",
       "      <th>MPG_City</th>\n",
       "      <td>428.0</td>\n",
       "      <td>20.060748</td>\n",
       "      <td>5.238218</td>\n",
       "      <td>10.0</td>\n",
       "      <td>17.000</td>\n",
       "      <td>19.0</td>\n",
       "      <td>21.25</td>\n",
       "      <td>60.0</td>\n",
       "    </tr>\n",
       "    <tr>\n",
       "      <th>MPG_Highway</th>\n",
       "      <td>428.0</td>\n",
       "      <td>26.843458</td>\n",
       "      <td>5.741201</td>\n",
       "      <td>12.0</td>\n",
       "      <td>24.000</td>\n",
       "      <td>26.0</td>\n",
       "      <td>29.00</td>\n",
       "      <td>66.0</td>\n",
       "    </tr>\n",
       "    <tr>\n",
       "      <th>Weight</th>\n",
       "      <td>428.0</td>\n",
       "      <td>3577.953271</td>\n",
       "      <td>758.983215</td>\n",
       "      <td>1850.0</td>\n",
       "      <td>3104.000</td>\n",
       "      <td>3474.5</td>\n",
       "      <td>3977.75</td>\n",
       "      <td>7190.0</td>\n",
       "    </tr>\n",
       "    <tr>\n",
       "      <th>Wheelbase</th>\n",
       "      <td>428.0</td>\n",
       "      <td>108.154206</td>\n",
       "      <td>8.311813</td>\n",
       "      <td>89.0</td>\n",
       "      <td>103.000</td>\n",
       "      <td>107.0</td>\n",
       "      <td>112.00</td>\n",
       "      <td>144.0</td>\n",
       "    </tr>\n",
       "    <tr>\n",
       "      <th>Length</th>\n",
       "      <td>428.0</td>\n",
       "      <td>186.362150</td>\n",
       "      <td>14.357991</td>\n",
       "      <td>143.0</td>\n",
       "      <td>178.000</td>\n",
       "      <td>187.0</td>\n",
       "      <td>194.00</td>\n",
       "      <td>238.0</td>\n",
       "    </tr>\n",
       "  </tbody>\n",
       "</table>\n",
       "</div>"
      ],
      "text/plain": [
       "             count         mean         std     min       25%     50%  \\\n",
       "EngineSize   428.0     3.196729    1.108595     1.3     2.375     3.0   \n",
       "Cylinders    426.0     5.807512    1.558443     3.0     4.000     6.0   \n",
       "Horsepower   428.0   215.885514   71.836032    73.0   165.000   210.0   \n",
       "MPG_City     428.0    20.060748    5.238218    10.0    17.000    19.0   \n",
       "MPG_Highway  428.0    26.843458    5.741201    12.0    24.000    26.0   \n",
       "Weight       428.0  3577.953271  758.983215  1850.0  3104.000  3474.5   \n",
       "Wheelbase    428.0   108.154206    8.311813    89.0   103.000   107.0   \n",
       "Length       428.0   186.362150   14.357991   143.0   178.000   187.0   \n",
       "\n",
       "                 75%     max  \n",
       "EngineSize      3.90     8.3  \n",
       "Cylinders       6.00    12.0  \n",
       "Horsepower    255.00   500.0  \n",
       "MPG_City       21.25    60.0  \n",
       "MPG_Highway    29.00    66.0  \n",
       "Weight       3977.75  7190.0  \n",
       "Wheelbase     112.00   144.0  \n",
       "Length        194.00   238.0  "
      ]
     },
     "execution_count": 108,
     "metadata": {},
     "output_type": "execute_result"
    }
   ],
   "source": [
    "df.describe().T"
   ]
  },
  {
   "cell_type": "markdown",
   "id": "b20a7b55-61e0-43ec-98df-7ab9d3b7ce73",
   "metadata": {},
   "source": [
    "### Sütunlarımızın değişken tiplerini öğrenelim"
   ]
  },
  {
   "cell_type": "code",
   "execution_count": 113,
   "id": "7ec0effe-6d9d-4cae-b112-bd4b0571acd7",
   "metadata": {},
   "outputs": [
    {
     "data": {
      "text/plain": [
       "Make            object\n",
       "Model           object\n",
       "Type            object\n",
       "Origin          object\n",
       "DriveTrain      object\n",
       "MSRP            object\n",
       "Invoice         object\n",
       "EngineSize     float64\n",
       "Cylinders      float64\n",
       "Horsepower     float64\n",
       "MPG_City       float64\n",
       "MPG_Highway    float64\n",
       "Weight         float64\n",
       "Wheelbase      float64\n",
       "Length         float64\n",
       "dtype: object"
      ]
     },
     "execution_count": 113,
     "metadata": {},
     "output_type": "execute_result"
    }
   ],
   "source": [
    "df.dtypes"
   ]
  },
  {
   "cell_type": "markdown",
   "id": "40f15ad4-abe8-4b1e-aded-f1b94c016025",
   "metadata": {},
   "source": [
    "### Bir çok şey öğrenecğimiz \"**info()**\" fonksiyonunu kullanalım"
   ]
  },
  {
   "cell_type": "code",
   "execution_count": 119,
   "id": "a7ecfe64-d739-41ab-9935-bbbc7a42734b",
   "metadata": {},
   "outputs": [
    {
     "name": "stdout",
     "output_type": "stream",
     "text": [
      "<class 'pandas.core.frame.DataFrame'>\n",
      "RangeIndex: 432 entries, 0 to 431\n",
      "Data columns (total 15 columns):\n",
      " #   Column       Non-Null Count  Dtype  \n",
      "---  ------       --------------  -----  \n",
      " 0   Make         428 non-null    object \n",
      " 1   Model        428 non-null    object \n",
      " 2   Type         428 non-null    object \n",
      " 3   Origin       428 non-null    object \n",
      " 4   DriveTrain   428 non-null    object \n",
      " 5   MSRP         428 non-null    object \n",
      " 6   Invoice      428 non-null    object \n",
      " 7   EngineSize   428 non-null    float64\n",
      " 8   Cylinders    426 non-null    float64\n",
      " 9   Horsepower   428 non-null    float64\n",
      " 10  MPG_City     428 non-null    float64\n",
      " 11  MPG_Highway  428 non-null    float64\n",
      " 12  Weight       428 non-null    float64\n",
      " 13  Wheelbase    428 non-null    float64\n",
      " 14  Length       428 non-null    float64\n",
      "dtypes: float64(8), object(7)\n",
      "memory usage: 50.8+ KB\n"
     ]
    }
   ],
   "source": [
    "df.info()"
   ]
  },
  {
   "cell_type": "markdown",
   "id": "2aaa89bc-31e5-47a6-9a44-43bd414d8730",
   "metadata": {},
   "source": [
    "### Sütunlarımızdaki eşsiz verileri öğrenelim.\n",
    "### \"**unique()**\" fonksiyonu ile yapalım."
   ]
  },
  {
   "cell_type": "code",
   "execution_count": 130,
   "id": "529c311a-8b55-401d-8223-716ffa0e58c6",
   "metadata": {},
   "outputs": [
    {
     "data": {
      "text/plain": [
       "array(['Acura', 'Audi', 'BMW', nan, 'Buick', 'Cadillac', 'Chevrolet',\n",
       "       'Chrysler', 'Dodge', 'Ford', 'GMC', 'Honda', 'Hummer', 'Hyundai',\n",
       "       'Infiniti', 'Isuzu', 'Jaguar', 'Jeep', 'Kia', 'Land Rover',\n",
       "       'Lexus', 'Lincoln', 'MINI', 'Mazda', 'Mercedes-Benz', 'Mercury',\n",
       "       'Mitsubishi', 'Nissan', 'Oldsmobile', 'Pontiac', 'Porsche', 'Saab',\n",
       "       'Saturn', 'Scion', 'Subaru', 'Suzuki', 'Toyota', 'Volkswagen',\n",
       "       'Volvo'], dtype=object)"
      ]
     },
     "execution_count": 130,
     "metadata": {},
     "output_type": "execute_result"
    }
   ],
   "source": [
    "df[\"Make\"].unique() #Make sütunundaki verilerimizi öğrendik."
   ]
  },
  {
   "cell_type": "markdown",
   "id": "da2d1fb5-c3b1-4f9d-8d2b-9ef1943a29ce",
   "metadata": {},
   "source": [
    "### nunique() fonksiyonu ile eşsiz olan verilerin adetini öğrenelim.Nan değerlerini saymaz"
   ]
  },
  {
   "cell_type": "code",
   "execution_count": 134,
   "id": "4b936fb3-0b88-44d3-b0cb-087cbf1e3b05",
   "metadata": {},
   "outputs": [
    {
     "data": {
      "text/plain": [
       "38"
      ]
     },
     "execution_count": 134,
     "metadata": {},
     "output_type": "execute_result"
    }
   ],
   "source": [
    "df[\"Make\"].nunique()"
   ]
  },
  {
   "cell_type": "code",
   "execution_count": 142,
   "id": "631254ab-dba1-40cb-bdde-372041431665",
   "metadata": {},
   "outputs": [
    {
     "data": {
      "text/plain": [
       "array(['SUV', 'Sedan', 'Sports', 'Wagon', nan, 'Truck', 'Hybrid'],\n",
       "      dtype=object)"
      ]
     },
     "execution_count": 142,
     "metadata": {},
     "output_type": "execute_result"
    }
   ],
   "source": [
    "df[\"Type\"].unique()"
   ]
  },
  {
   "cell_type": "code",
   "execution_count": 144,
   "id": "22f6a0a0-92ea-4c90-b4ea-7c610f23c0d9",
   "metadata": {},
   "outputs": [
    {
     "data": {
      "text/plain": [
       "6"
      ]
     },
     "execution_count": 144,
     "metadata": {},
     "output_type": "execute_result"
    }
   ],
   "source": [
    "df[\"Type\"].nunique()"
   ]
  },
  {
   "cell_type": "markdown",
   "id": "cec80e0a-d314-4c39-a290-dba4e5b311b3",
   "metadata": {},
   "source": [
    "### Sütunlarımızdaki eşsiz verileri toplu olarka görmek için df.nunique() kullanalım"
   ]
  },
  {
   "cell_type": "code",
   "execution_count": 156,
   "id": "c66d5cb7-c4a0-4982-94e7-7eab61a609c8",
   "metadata": {},
   "outputs": [
    {
     "data": {
      "text/plain": [
       "Make            38\n",
       "Model          425\n",
       "Type             6\n",
       "Origin           3\n",
       "DriveTrain       3\n",
       "MSRP           410\n",
       "Invoice        425\n",
       "EngineSize      43\n",
       "Cylinders        7\n",
       "Horsepower     110\n",
       "MPG_City        28\n",
       "MPG_Highway     33\n",
       "Weight         348\n",
       "Wheelbase       40\n",
       "Length          67\n",
       "dtype: int64"
      ]
     },
     "execution_count": 156,
     "metadata": {},
     "output_type": "execute_result"
    }
   ],
   "source": [
    "df.nunique()"
   ]
  },
  {
   "cell_type": "markdown",
   "id": "d4d232eb-a4c0-48b5-9506-f6cb4737e768",
   "metadata": {},
   "source": [
    "### Veri setimizdeki boş değerlere genel bir bakış atalım"
   ]
  },
  {
   "cell_type": "code",
   "execution_count": 171,
   "id": "abc13a1e-2ec2-41b6-9fe9-1d00db078d31",
   "metadata": {},
   "outputs": [
    {
     "data": {
      "text/html": [
       "<div>\n",
       "<style scoped>\n",
       "    .dataframe tbody tr th:only-of-type {\n",
       "        vertical-align: middle;\n",
       "    }\n",
       "\n",
       "    .dataframe tbody tr th {\n",
       "        vertical-align: top;\n",
       "    }\n",
       "\n",
       "    .dataframe thead th {\n",
       "        text-align: right;\n",
       "    }\n",
       "</style>\n",
       "<table border=\"1\" class=\"dataframe\">\n",
       "  <thead>\n",
       "    <tr style=\"text-align: right;\">\n",
       "      <th></th>\n",
       "      <th>Make</th>\n",
       "      <th>Model</th>\n",
       "      <th>Type</th>\n",
       "      <th>Origin</th>\n",
       "      <th>DriveTrain</th>\n",
       "      <th>MSRP</th>\n",
       "      <th>Invoice</th>\n",
       "      <th>EngineSize</th>\n",
       "      <th>Cylinders</th>\n",
       "      <th>Horsepower</th>\n",
       "      <th>MPG_City</th>\n",
       "      <th>MPG_Highway</th>\n",
       "      <th>Weight</th>\n",
       "      <th>Wheelbase</th>\n",
       "      <th>Length</th>\n",
       "    </tr>\n",
       "  </thead>\n",
       "  <tbody>\n",
       "    <tr>\n",
       "      <th>0</th>\n",
       "      <td>False</td>\n",
       "      <td>False</td>\n",
       "      <td>False</td>\n",
       "      <td>False</td>\n",
       "      <td>False</td>\n",
       "      <td>False</td>\n",
       "      <td>False</td>\n",
       "      <td>False</td>\n",
       "      <td>False</td>\n",
       "      <td>False</td>\n",
       "      <td>False</td>\n",
       "      <td>False</td>\n",
       "      <td>False</td>\n",
       "      <td>False</td>\n",
       "      <td>False</td>\n",
       "    </tr>\n",
       "    <tr>\n",
       "      <th>1</th>\n",
       "      <td>False</td>\n",
       "      <td>False</td>\n",
       "      <td>False</td>\n",
       "      <td>False</td>\n",
       "      <td>False</td>\n",
       "      <td>False</td>\n",
       "      <td>False</td>\n",
       "      <td>False</td>\n",
       "      <td>False</td>\n",
       "      <td>False</td>\n",
       "      <td>False</td>\n",
       "      <td>False</td>\n",
       "      <td>False</td>\n",
       "      <td>False</td>\n",
       "      <td>False</td>\n",
       "    </tr>\n",
       "    <tr>\n",
       "      <th>2</th>\n",
       "      <td>False</td>\n",
       "      <td>False</td>\n",
       "      <td>False</td>\n",
       "      <td>False</td>\n",
       "      <td>False</td>\n",
       "      <td>False</td>\n",
       "      <td>False</td>\n",
       "      <td>False</td>\n",
       "      <td>False</td>\n",
       "      <td>False</td>\n",
       "      <td>False</td>\n",
       "      <td>False</td>\n",
       "      <td>False</td>\n",
       "      <td>False</td>\n",
       "      <td>False</td>\n",
       "    </tr>\n",
       "    <tr>\n",
       "      <th>3</th>\n",
       "      <td>False</td>\n",
       "      <td>False</td>\n",
       "      <td>False</td>\n",
       "      <td>False</td>\n",
       "      <td>False</td>\n",
       "      <td>False</td>\n",
       "      <td>False</td>\n",
       "      <td>False</td>\n",
       "      <td>False</td>\n",
       "      <td>False</td>\n",
       "      <td>False</td>\n",
       "      <td>False</td>\n",
       "      <td>False</td>\n",
       "      <td>False</td>\n",
       "      <td>False</td>\n",
       "    </tr>\n",
       "    <tr>\n",
       "      <th>4</th>\n",
       "      <td>False</td>\n",
       "      <td>False</td>\n",
       "      <td>False</td>\n",
       "      <td>False</td>\n",
       "      <td>False</td>\n",
       "      <td>False</td>\n",
       "      <td>False</td>\n",
       "      <td>False</td>\n",
       "      <td>False</td>\n",
       "      <td>False</td>\n",
       "      <td>False</td>\n",
       "      <td>False</td>\n",
       "      <td>False</td>\n",
       "      <td>False</td>\n",
       "      <td>False</td>\n",
       "    </tr>\n",
       "    <tr>\n",
       "      <th>...</th>\n",
       "      <td>...</td>\n",
       "      <td>...</td>\n",
       "      <td>...</td>\n",
       "      <td>...</td>\n",
       "      <td>...</td>\n",
       "      <td>...</td>\n",
       "      <td>...</td>\n",
       "      <td>...</td>\n",
       "      <td>...</td>\n",
       "      <td>...</td>\n",
       "      <td>...</td>\n",
       "      <td>...</td>\n",
       "      <td>...</td>\n",
       "      <td>...</td>\n",
       "      <td>...</td>\n",
       "    </tr>\n",
       "    <tr>\n",
       "      <th>427</th>\n",
       "      <td>False</td>\n",
       "      <td>False</td>\n",
       "      <td>False</td>\n",
       "      <td>False</td>\n",
       "      <td>False</td>\n",
       "      <td>False</td>\n",
       "      <td>False</td>\n",
       "      <td>False</td>\n",
       "      <td>False</td>\n",
       "      <td>False</td>\n",
       "      <td>False</td>\n",
       "      <td>False</td>\n",
       "      <td>False</td>\n",
       "      <td>False</td>\n",
       "      <td>False</td>\n",
       "    </tr>\n",
       "    <tr>\n",
       "      <th>428</th>\n",
       "      <td>False</td>\n",
       "      <td>False</td>\n",
       "      <td>False</td>\n",
       "      <td>False</td>\n",
       "      <td>False</td>\n",
       "      <td>False</td>\n",
       "      <td>False</td>\n",
       "      <td>False</td>\n",
       "      <td>False</td>\n",
       "      <td>False</td>\n",
       "      <td>False</td>\n",
       "      <td>False</td>\n",
       "      <td>False</td>\n",
       "      <td>False</td>\n",
       "      <td>False</td>\n",
       "    </tr>\n",
       "    <tr>\n",
       "      <th>429</th>\n",
       "      <td>False</td>\n",
       "      <td>False</td>\n",
       "      <td>False</td>\n",
       "      <td>False</td>\n",
       "      <td>False</td>\n",
       "      <td>False</td>\n",
       "      <td>False</td>\n",
       "      <td>False</td>\n",
       "      <td>False</td>\n",
       "      <td>False</td>\n",
       "      <td>False</td>\n",
       "      <td>False</td>\n",
       "      <td>False</td>\n",
       "      <td>False</td>\n",
       "      <td>False</td>\n",
       "    </tr>\n",
       "    <tr>\n",
       "      <th>430</th>\n",
       "      <td>False</td>\n",
       "      <td>False</td>\n",
       "      <td>False</td>\n",
       "      <td>False</td>\n",
       "      <td>False</td>\n",
       "      <td>False</td>\n",
       "      <td>False</td>\n",
       "      <td>False</td>\n",
       "      <td>False</td>\n",
       "      <td>False</td>\n",
       "      <td>False</td>\n",
       "      <td>False</td>\n",
       "      <td>False</td>\n",
       "      <td>False</td>\n",
       "      <td>False</td>\n",
       "    </tr>\n",
       "    <tr>\n",
       "      <th>431</th>\n",
       "      <td>False</td>\n",
       "      <td>False</td>\n",
       "      <td>False</td>\n",
       "      <td>False</td>\n",
       "      <td>False</td>\n",
       "      <td>False</td>\n",
       "      <td>False</td>\n",
       "      <td>False</td>\n",
       "      <td>False</td>\n",
       "      <td>False</td>\n",
       "      <td>False</td>\n",
       "      <td>False</td>\n",
       "      <td>False</td>\n",
       "      <td>False</td>\n",
       "      <td>False</td>\n",
       "    </tr>\n",
       "  </tbody>\n",
       "</table>\n",
       "<p>432 rows × 15 columns</p>\n",
       "</div>"
      ],
      "text/plain": [
       "      Make  Model   Type  Origin  DriveTrain   MSRP  Invoice  EngineSize  \\\n",
       "0    False  False  False   False       False  False    False       False   \n",
       "1    False  False  False   False       False  False    False       False   \n",
       "2    False  False  False   False       False  False    False       False   \n",
       "3    False  False  False   False       False  False    False       False   \n",
       "4    False  False  False   False       False  False    False       False   \n",
       "..     ...    ...    ...     ...         ...    ...      ...         ...   \n",
       "427  False  False  False   False       False  False    False       False   \n",
       "428  False  False  False   False       False  False    False       False   \n",
       "429  False  False  False   False       False  False    False       False   \n",
       "430  False  False  False   False       False  False    False       False   \n",
       "431  False  False  False   False       False  False    False       False   \n",
       "\n",
       "     Cylinders  Horsepower  MPG_City  MPG_Highway  Weight  Wheelbase  Length  \n",
       "0        False       False     False        False   False      False   False  \n",
       "1        False       False     False        False   False      False   False  \n",
       "2        False       False     False        False   False      False   False  \n",
       "3        False       False     False        False   False      False   False  \n",
       "4        False       False     False        False   False      False   False  \n",
       "..         ...         ...       ...          ...     ...        ...     ...  \n",
       "427      False       False     False        False   False      False   False  \n",
       "428      False       False     False        False   False      False   False  \n",
       "429      False       False     False        False   False      False   False  \n",
       "430      False       False     False        False   False      False   False  \n",
       "431      False       False     False        False   False      False   False  \n",
       "\n",
       "[432 rows x 15 columns]"
      ]
     },
     "execution_count": 171,
     "metadata": {},
     "output_type": "execute_result"
    }
   ],
   "source": [
    "df.isnull()"
   ]
  },
  {
   "cell_type": "markdown",
   "id": "87ccbe6e-cd2e-4a25-bd05-4fc742e76b87",
   "metadata": {},
   "source": [
    "### Veri setimizde hiç boş değer-NAN var mı mantıksal olarak öğrenelim."
   ]
  },
  {
   "cell_type": "code",
   "execution_count": 161,
   "id": "92d8104e-d8b8-4e43-b433-07dca0b364c8",
   "metadata": {},
   "outputs": [
    {
     "data": {
      "text/plain": [
       "True"
      ]
     },
     "execution_count": 161,
     "metadata": {},
     "output_type": "execute_result"
    }
   ],
   "source": [
    "df.isnull().values.any()"
   ]
  },
  {
   "attachments": {},
   "cell_type": "markdown",
   "id": "b64aebb5-a256-43d6-9fab-ae566850d50f",
   "metadata": {},
   "source": [
    "### Her kolonda eksik veri var mı varsa kaç adet onu getirelim."
   ]
  },
  {
   "cell_type": "code",
   "execution_count": 175,
   "id": "6b1e4cb2-59df-4530-b3b5-f20fb0c22d68",
   "metadata": {},
   "outputs": [
    {
     "data": {
      "text/plain": [
       "Make           4\n",
       "Model          4\n",
       "Type           4\n",
       "Origin         4\n",
       "DriveTrain     4\n",
       "MSRP           4\n",
       "Invoice        4\n",
       "EngineSize     4\n",
       "Cylinders      6\n",
       "Horsepower     4\n",
       "MPG_City       4\n",
       "MPG_Highway    4\n",
       "Weight         4\n",
       "Wheelbase      4\n",
       "Length         4\n",
       "dtype: int64"
      ]
     },
     "execution_count": 175,
     "metadata": {},
     "output_type": "execute_result"
    }
   ],
   "source": [
    "df.isnull().sum()"
   ]
  },
  {
   "cell_type": "markdown",
   "id": "8eafff59-e628-473d-8ab6-7089617bdeaf",
   "metadata": {},
   "source": [
    "### Bütün sütunlardaki eksik verileri toplayalım.Bunun için bir tane daha \"**sum()**\" fonksiyonu eklemeliyiz."
   ]
  },
  {
   "cell_type": "code",
   "execution_count": 185,
   "id": "6b2877f0-f4da-4b0d-9c23-06652f744396",
   "metadata": {},
   "outputs": [
    {
     "data": {
      "text/plain": [
       "62"
      ]
     },
     "execution_count": 185,
     "metadata": {},
     "output_type": "execute_result"
    }
   ],
   "source": [
    "df.isnull().sum().sum()"
   ]
  },
  {
   "cell_type": "markdown",
   "id": "317b7426-45ec-4f3c-96ff-3db2d9ccf9f3",
   "metadata": {},
   "source": [
    "### Her sütundaki verileri sayar"
   ]
  },
  {
   "cell_type": "code",
   "execution_count": 187,
   "id": "63bd557f-81e2-4c07-883b-475c0bbb53cd",
   "metadata": {},
   "outputs": [
    {
     "data": {
      "text/plain": [
       "Make           428\n",
       "Model          428\n",
       "Type           428\n",
       "Origin         428\n",
       "DriveTrain     428\n",
       "MSRP           428\n",
       "Invoice        428\n",
       "EngineSize     428\n",
       "Cylinders      426\n",
       "Horsepower     428\n",
       "MPG_City       428\n",
       "MPG_Highway    428\n",
       "Weight         428\n",
       "Wheelbase      428\n",
       "Length         428\n",
       "dtype: int64"
      ]
     },
     "execution_count": 187,
     "metadata": {},
     "output_type": "execute_result"
    }
   ],
   "source": [
    "df.count()"
   ]
  },
  {
   "cell_type": "markdown",
   "id": "a87994ca-c73f-4cf2-93ad-9d7ea59b1540",
   "metadata": {},
   "source": [
    "### Sütundaki verilerin kaç tane olduğunu sayar.Bu önemli bir bilgi verir."
   ]
  },
  {
   "cell_type": "code",
   "execution_count": 194,
   "id": "b1d6fccd-19c7-493d-ac71-3b367288a462",
   "metadata": {},
   "outputs": [
    {
     "data": {
      "text/plain": [
       "Make\n",
       "Toyota           28\n",
       "Chevrolet        27\n",
       "Mercedes-Benz    26\n",
       "Ford             23\n",
       "BMW              20\n",
       "Audi             19\n",
       "Honda            17\n",
       "Nissan           17\n",
       "Volkswagen       15\n",
       "Chrysler         15\n",
       "Dodge            13\n",
       "Mitsubishi       13\n",
       "Volvo            12\n",
       "Jaguar           12\n",
       "Hyundai          12\n",
       "Subaru           11\n",
       "Pontiac          11\n",
       "Mazda            11\n",
       "Lexus            11\n",
       "Kia              11\n",
       "Buick             9\n",
       "Mercury           9\n",
       "Lincoln           9\n",
       "Saturn            8\n",
       "Cadillac          8\n",
       "Suzuki            8\n",
       "Infiniti          8\n",
       "GMC               8\n",
       "Acura             7\n",
       "Porsche           7\n",
       "Saab              7\n",
       "Land Rover        3\n",
       "Oldsmobile        3\n",
       "Jeep              3\n",
       "Scion             2\n",
       "Isuzu             2\n",
       "MINI              2\n",
       "Hummer            1\n",
       "Name: count, dtype: int64"
      ]
     },
     "execution_count": 194,
     "metadata": {},
     "output_type": "execute_result"
    }
   ],
   "source": [
    "df[\"Make\"].value_counts()\n"
   ]
  },
  {
   "cell_type": "markdown",
   "id": "176d9644-1c58-4b5c-8fc0-95180568d04a",
   "metadata": {},
   "source": [
    "# Bu projede bazı temel fonksiyonları öğrendik.Okuduğunuz için teşekkürler."
   ]
  },
  {
   "cell_type": "code",
   "execution_count": null,
   "id": "9634a5d4-df3e-4301-a337-74e1c9d4da24",
   "metadata": {},
   "outputs": [],
   "source": []
  }
 ],
 "metadata": {
  "kernelspec": {
   "display_name": "Python 3 (ipykernel)",
   "language": "python",
   "name": "python3"
  },
  "language_info": {
   "codemirror_mode": {
    "name": "ipython",
    "version": 3
   },
   "file_extension": ".py",
   "mimetype": "text/x-python",
   "name": "python",
   "nbconvert_exporter": "python",
   "pygments_lexer": "ipython3",
   "version": "3.12.4"
  }
 },
 "nbformat": 4,
 "nbformat_minor": 5
}
